### import numpy as np
import pandas as pd
import seaborn as sns
import os
import sys
import matplotlib.pyplot as plt
from sklearn.linear_model import LogisticRegression, LinearRegression
from sklearn.preprocessing import StandardScaler, LabelEncoder
from sklearn.model_selection import train_test_split
from sklearn.metrics import accuracy_score, classification_report, mean_squared_error, r2_score
from sklearn.ensemble import VotingClassifier, StackingRegressor
from sklearn.svm import SVC
from sklearn.neighbors import KNeighborsClassifier
from sklearn.tree import DecisionTreeRegressor
from sklearn.ensemble import RandomForestRegressor
from scipy import stats
import warnings
import random
from fpdf import FPDF
from IPython.display import FileLink
from IPython.display import display
import sqlite3


warnings.filterwarnings("ignore")

df = pd.read_csv(r"/Users/samarthgupta1812/Downloads/gym_members_exercise_tracking.csv")


# Label Encoding for 'Gender'
le = LabelEncoder()
if df['Gender'].dtype == 'object':
    df['Gender'] = le.fit_transform(df['Gender'])

# One-Hot Encoding for 'Workout_Type'
if 'Workout_Type' in df.columns and df['Workout_Type'].dtype == 'object':
    df = pd.get_dummies(df, columns=['Workout_Type'], drop_first=False)

# Generating a target column for frequency prediction
df['Workout_Frequency'] = np.random.randint(2, 7, size=len(df))
df['BMI'] = df['Weight (kg)'] / (df['Height (m)'] ** 2)

# Handling Missing Values
df.fillna(df.mean(), inplace=True)

# Dropping outliers using Z-score
z_scores = np.abs(stats.zscore(df.select_dtypes(include=[np.number])))
df = df[(z_scores < 3).all(axis=1)]

# Input Features and Targets
x = df[['Age', 'Gender', 'Weight (kg)', 'BMI']]
y_type = df.filter(like='Workout_Type').idxmax(axis=1)
y_freq = df['Workout_Frequency']

### 2. Splitting Data
x_train, x_test, y_train_type, y_test_type = train_test_split(x, y_type, test_size=0.3, random_state=42)
x_train_freq, x_test_freq, y_train_freq, y_test_freq = train_test_split(x, y_freq, test_size=0.3, random_state=42)

# Feature Scaling
scaler = StandardScaler()
x_train = scaler.fit_transform(x_train)
x_test = scaler.transform(x_test)

### 3. Ensemble Models for Improved Predictions
# Voting Classifier for Workout Type Prediction
log_clf = LogisticRegression(max_iter=500, random_state=42)
svm_clf = SVC(probability=True, random_state=42)
knn_clf = KNeighborsClassifier(n_neighbors=5)

voting_clf = VotingClassifier(
    estimators=[('lr', log_clf), ('svc', svm_clf), ('knn', knn_clf)], 
    voting='soft'
)

voting_clf.fit(x_train, y_train_type)

# Stacked Regressor for Workout Frequency Prediction
base_models = [
    ('lin_reg', LinearRegression()), 
    ('tree_reg', DecisionTreeRegressor(random_state=42)),
    ('rf_reg', RandomForestRegressor(n_estimators=100, random_state=42))
]
stacked_regressor = StackingRegressor(
    estimators=base_models, final_estimator=LinearRegression()
)
stacked_regressor.fit(x_train_freq, y_train_freq)



### 5. User Input
def get_rounded_input(prompt, minimum, maximum):
    value = float(input(prompt))
    if value < minimum:
        value = minimum
    elif value > maximum:
        value = maximum
    return round(value, 2)

def get_user_input():
    print("GYM WORKOUT ANALYSIS")
    print("#####################################################")
    print("\nPlease provide the following details:")
    age = get_rounded_input("Enter Age (15-80): ", 15, 80)
    gender = int(input("Enter Gender (0 for Male, 1 for Female): "))
    weight = get_rounded_input("Enter Weight (kg) (30-150): ", 30, 150)
    bmi = get_rounded_input("Enter BMI (10-40): ", 10, 40)
    fitness_goal = int(input("Enter Fitness Goal (0 for Weight Loss, 1 for Muscle Gain, 2 for General Fitness): "))
    user_data = pd.DataFrame([[age, gender, weight, bmi, fitness_goal]], 
                             columns=['Age', 'Gender', 'Weight (kg)', 'BMI', 'Fitness Goal'])
    user_data_scaled = scaler.transform(user_data[['Age', 'Gender', 'Weight (kg)', 'BMI']])
    return user_data, user_data_scaled

user_data, user_input_scaled = get_user_input()

### 6. Predicting and Plotting Results
predicted_probs = voting_clf.predict_proba(user_input_scaled)[0]
workout_types = voting_clf.classes_
prob_df = pd.DataFrame({'Workout Type': workout_types, 'Probability': predicted_probs})

predicted_type = voting_clf.predict(user_input_scaled)[0]


def generate_complete_workout_plan(workout_type, frequency):
    # Define exercise splits
    workout_routines = {
        "Full Body": [
            ["Squats", "Bench Press", "Pull-Ups", "Plank"],
            ["Deadlifts", "Overhead Press", "Bent-over Rows", "Russian Twists"]
        ],
        "Push/Pull/Legs": [
            ["Bench Press", "Overhead Press", "Tricep Dips"],  # Push Day
            ["Pull-Ups", "Bent-over Rows", "Bicep Curls"],     # Pull Day
            ["Squats", "Leg Press", "Calf Raises"]              # Legs Day
        ],
        "Upper/Lower": [
            ["Bench Press", "Pull-Ups", "Bicep Curls", "Tricep Dips"],  # Upper Body Day
            ["Squats", "Deadlifts", "Leg Press", "Calf Raises"]          # Lower Body Day
        ],
        "Cardio/Strength": [
            ["Running", "Jump Rope", "Cycling"],                # Cardio Day
            ["Bench Press", "Deadlifts", "Squats"],             # Strength Day
        ]
    }

    # Select the workout routine based on the workout type
    if workout_type not in workout_routines:
        workout_type = "Full Body"  # Default to Full Body if type is unknown

    routine = workout_routines[workout_type]
    total_days = len(routine)

    days_of_week = ["Monday", "Tuesday", "Wednesday", "Thursday", "Friday", "Saturday", "Sunday"]
    workout_days = sorted(random.sample(range(7), frequency))  # Select random days based on frequency

    # Creating the weekly workout plan
    weekly_plan = []
    for i in range(7):
        if i in workout_days:
            # Cycle through available workout routines
            day_index = workout_days.index(i) % total_days
            exercises = routine[day_index]
            weekly_plan.append({"Day": days_of_week[i], "Exercise": ", ".join(exercises)})
        else:
            weekly_plan.append({"Day": days_of_week[i], "Exercise": "Rest Day"})

    return weekly_plan

# Generate and display the workout plan based on predicted type and frequency
predicted_type = voting_clf.predict(user_input_scaled)[0]
predicted_freq = int(round(stacked_regressor.predict(user_input_scaled)[0]))
workout_plan = generate_complete_workout_plan(predicted_type, predicted_freq)
workout_df = pd.DataFrame(workout_plan)
print("\nPersonalized Weekly Workout Plan:")


# Exporting to PDF
class FitnessPlanPDF(FPDF):
    def header(self):
        self.set_font('Arial', 'B', 14)
        self.cell(0, 10, 'Personalized Fitness Plan', border=False, ln=1, align='C')

    def chapter_title(self, title):
        self.set_font('Arial', 'B', 12)
        self.cell(0, 10, f'{title}', ln=1, border=False)
        self.ln(5)

    def chapter_body(self, body):
        self.set_font('Arial', '', 12)
        self.multi_cell(0, 10, body)
        self.ln()


def export_to_pdf(workout_plan, meal_plan, daily_calories, protein, carbs, fats):
    pdf = FitnessPlanPDF()
    pdf.add_page()

    pdf.chapter_title("Weekly Workout Plan")
    for day_plan in workout_plan:
        day = day_plan["Day"]
        exercise = day_plan["Exercise"]
        pdf.chapter_body(f"{day}: {exercise}")

    pdf.chapter_title("Nutrition Recommendation")
    pdf.chapter_body(f"Daily Caloric Intake: {daily_calories} kcal")
    pdf.chapter_body(f"Macronutrient Distribution:\n- Protein: {protein}g\n- Carbs: {carbs}g\n- Fats: {fats}g")

    pdf.chapter_title("Sample Meal Plan")
    for meal, suggestion in meal_plan.items():
        pdf.chapter_body(f"{meal}: {suggestion}")

    # Save PDF
    file_name = "Personalized_Fitness_Plan.pdf"
    file_path = os.path.abspath(file_name)
    pdf.output(file_path)

def calculate_daily_calories(age, bmi, frequency, fitness_goal):
    calorie_adjustment = -500 if fitness_goal == 0 else (500 if fitness_goal == 1 else 0)
    bmr = 24 * (bmi * (1.75 ** 2)) 
    activity_multiplier = 1.2 + (frequency * 0.1)
    return round((bmr * activity_multiplier) + calorie_adjustment, 0)

def recommend_macros(daily_calories, fitness_goal):
    ratios = [(0.35, 0.40, 0.25), (0.40, 0.40, 0.20), (0.30, 0.45, 0.25)][fitness_goal]
    protein = round((daily_calories * ratios[0]) / 4, 1)
    carbs = round((daily_calories * ratios[1]) / 4, 1)
    fats = round((daily_calories * ratios[2]) / 9, 1)
    return protein, carbs, fats


def display_menu():
    print("#####################################################")
    print("\n### Fitness Plan Menu ###")
    print("1. View Stats and Accuracy")
    print("2. Graphical Representation of Ideal Workout Type")
    print("3. Ideal Workout Frequency")
    print("4. Nutritional Recommendations (Includes Meal Plan)")
    print("5. Weekly Workout Plan")
    print("6. Generate Personalized Fitness Plan PDF")
    print("7. View Stored Database Records")
    print("8. Exit")
    print("#####################################################")
    return int(input("Enter your choice (1-8): "))

def calculate_daily_calories(age, bmi, frequency, fitness_goal):
    calorie_adjustment = -500 if fitness_goal == 0 else (500 if fitness_goal == 1 else 0)
    bmr = 24 * (bmi * (1.75 ** 2))
    activity_multiplier = 1.2 + (frequency * 0.1)
    return round((bmr * activity_multiplier) + calorie_adjustment, 0)


def recommend_macros(daily_calories, fitness_goal):
    ratios = [(0.35, 0.40, 0.25), (0.40, 0.40, 0.20), (0.30, 0.45, 0.25)][fitness_goal]
    protein = round((daily_calories * ratios[0]) / 4, 1)
    carbs = round((daily_calories * ratios[1]) / 4, 1)
    fats = round((daily_calories * ratios[2]) / 9, 1)
    return protein, carbs, fats

def generate_sample_meals(fitness_goal):
    meal_plans = {
        0: {"Breakfast": "Oatmeal with Greek Yogurt & Berries", "Lunch": "Grilled Chicken Salad", 
                        "Dinner": "Steamed Veggies with Salmon", "Snacks": "Apple with Peanut Butter"},
        1: {"Breakfast": "Scrambled Eggs & Toast", "Lunch": "Chicken Burrito Bowl", 
                        "Dinner": "Beef Stir-Fry", "Snacks": "Protein Shake with Banana"},
        2: {"Breakfast": "Smoothie with Spinach & Banana", "Lunch": "Turkey Sandwich", 
                        "Dinner": "Baked Chicken with Sweet Potatoes", "Snacks": "Mixed Nuts & Yogurt"}
    }
    return meal_plans.get(fitness_goal, meal_plans[2])
def nutrition_recommendation(age, bmi, frequency, fitness_goal):
    daily_calories = calculate_daily_calories(age, bmi, frequency, fitness_goal)
    protein, carbs, fats = recommend_macros(daily_calories, fitness_goal)
    meal_plan = generate_sample_meals(fitness_goal)
    print("\n### Nutrition Recommendation ###")
    print(f"Daily Caloric Intake: {daily_calories} kcal")
    print(f"Macronutrient Distribution: Protein: {protein}g, Carbs: {carbs}g, Fats: {fats}g")
    print("\nSample Meal Plan:")
    for meal, suggestion in meal_plan.items():
        print(f"{meal}: {suggestion}")
   # nutrition_recommendation(user_data['Age'][0], user_data['BMI'][0], predicted_freq, user_data['Fitness Goal'][0])
conn = sqlite3.connect("user_data1.db")
cursor = conn.cursor()




# Create a table for storing user data and predictions
cursor.execute("""
CREATE TABLE IF NOT EXISTS UserRecords (
    id INTEGER PRIMARY KEY AUTOINCREMENT,
    age INTEGER,
    gender TEXT,
    weight REAL,
    bmi REAL,
    fitness_goal TEXT,
    predicted_workout_type TEXT,
    predicted_workout_frequency INTEGER,
    daily_calories INTEGER,
    protein REAL,
    carbs REAL,
    fats REAL
)
""")
conn.commit()
def insert_user_record(age, gender, weight, bmi, fitness_goal, predicted_workout_type, 
                       predicted_workout_frequency, daily_calories, protein, carbs, fats):
    gender_str = "Male" if gender == 0 else "Female"
    fitness_goal_str = ["Weight Loss", "Muscle Gain", "General Fitness"][fitness_goal]
    
    cursor.execute("""
    INSERT INTO UserRecords (
        age, gender, weight, bmi, fitness_goal, predicted_workout_type, 
        predicted_workout_frequency, daily_calories, protein, carbs, fats
    ) VALUES (?, ?, ?, ?, ?, ?, ?, ?, ?, ?, ?)
    """, (age, gender_str, weight, bmi, fitness_goal_str, predicted_workout_type, 
          predicted_workout_frequency, daily_calories, protein, carbs, fats))
    conn.commit()
    print("\nUser record has been saved to the database.")


# Predicting and plotting results
predicted_probs = voting_clf.predict_proba(user_input_scaled)[0]
workout_types = voting_clf.classes_
prob_df = pd.DataFrame({'Workout Type': workout_types, 'Probability': predicted_probs})

predicted_type = voting_clf.predict(user_input_scaled)[0]
predicted_freq = int(round(stacked_regressor.predict(user_input_scaled)[0]))

# Calculate daily calories and macronutrients
daily_calories = calculate_daily_calories(user_data['Age'][0], user_data['BMI'][0], predicted_freq, user_data['Fitness Goal'][0])
protein, carbs, fats = recommend_macros(daily_calories, user_data['Fitness Goal'][0])

# Insert user record into the database
insert_user_record(
    age=user_data['Age'][0],
    gender=user_data['Gender'][0],
    weight=user_data['Weight (kg)'][0],
    bmi=user_data['BMI'][0],
    fitness_goal=user_data['Fitness Goal'][0],
    predicted_workout_type=predicted_type,
    predicted_workout_frequency=predicted_freq,
    daily_calories=daily_calories,
    protein=protein,
    carbs=carbs,
    fats=fats
)
def retrieve_user_records():
    cursor.execute("SELECT * FROM UserRecords")
    records = cursor.fetchall()
    if records:
        print("\n### User Records ###")
        for record in records:
            print(f"ID: {record[0]}, Age: {record[1]}, Gender: {record[2]}, Weight: {record[3]} kg, "
                  f"BMI: {record[4]}, Fitness Goal: {record[5]}, Workout Type: {record[6]}, "
                  f"Workout Frequency: {record[7]} days/week, Calories: {record[8]} kcal, "
                  f"Protein: {record[9]}g, Carbs: {record[10]}g, Fats: {record[11]}g")
    else:
        print("\nNo records found.")

def handle_choice(choice):
    if choice == 1:
        print("\n### Model Statistics ###")
        # Evaluate Ensemble Classifier for Workout Type
        y_pred_type = voting_clf.predict(x_test)
        acc = accuracy_score(y_test_type, y_pred_type)
        print(f"\nEnsemble Voting Classifier Accuracy (Workout Type): {acc:.2f}")
        print(classification_report(y_test_type, y_pred_type))

        y_pred_freq = stacked_regressor.predict(x_test_freq)
        r2 = r2_score(y_test_freq, y_pred_freq)
        mse = mean_squared_error(y_test_freq, y_pred_freq)
        print(f"\nStacked Regressor R² (Workout Frequency): {r2:.2f}")
        print(f"Mean Squared Error (MSE): {mse:.2f}")


    elif choice == 2:
        print("\n### Graphical Representation ###")
        print("1. Bar Chart")
        print("2. Pie Chart")
        sub_choice = int(input("Enter your choice (1-2): "))
        if sub_choice == 1:
            predicted_probs = voting_clf.predict_proba(user_input_scaled)[0]
            workout_types = voting_clf.classes_
            prob_df = pd.DataFrame({'Workout Type': workout_types, 'Probability': predicted_probs})
            plt.figure(figsize=(10, 5))
            sns.barplot(x='Workout Type', y='Probability', data=prob_df)
            plt.title("Predicted Workout Type Probabilities")
            plt.xlabel("Workout Type")
            plt.ylabel("Probability")
            plt.show()
            predicted_type = voting_clf.predict(user_input_scaled)[0]

        elif sub_choice == 2:
            predicted_probs = voting_clf.predict_proba(user_input_scaled)[0]
            workout_types = voting_clf.classes_
            prob_df = pd.DataFrame({'Workout Type': workout_types, 'Probability': predicted_probs})
            plt.pie(
                predicted_probs, 
                labels=workout_types, 
                autopct='%1.1f%%', 
                startangle=140, 
                colors=sns.color_palette('pastel')
            )
            plt.title("Predicted Workout Type Probabilities", fontsize=14)
            plt.axis('equal')
            plt.show()
            predicted_type = voting_clf.predict(user_input_scaled)[0]
        

    elif choice == 3:
        
        predicted_freq = int(round(stacked_regressor.predict(user_input_scaled)[0]))
        print(f"\nIdeal Workout Frequency: {predicted_freq} days per week")

    elif choice == 4:
        predicted_type = voting_clf.predict(user_input_scaled)[0]
        predicted_freq = int(round(stacked_regressor.predict(user_input_scaled)[0]))

        # Nutrition Recommendation
        age = user_data['Age'][0]
        bmi = user_data['BMI'][0]
        fitness_goal = user_data['Fitness Goal'][0]

        # Call the nutrition recommendation function
        nutrition_recommendation(age, bmi, predicted_freq, fitness_goal)
        
        return


    elif choice == 5:
        print("\n### Weekly Workout Plan ###")
        print(workout_df)


    elif choice == 6:
        print("\n### Generating Personalized PDF ###")
    
        # Ensure nutritional values are calculated before exporting to PDF
        predicted_freq = int(round(stacked_regressor.predict(user_input_scaled)[0]))
    
        daily_calories = calculate_daily_calories(user_data['Age'][0], user_data['BMI'][0], predicted_freq, user_data['Fitness Goal'][0])
        protein, carbs, fats = recommend_macros(daily_calories, user_data['Fitness Goal'][0])
    
        meal_plan = generate_sample_meals(user_data['Fitness Goal'][0])
    
      
        export_to_pdf(workout_plan, meal_plan, daily_calories, protein, carbs, fats)
        print(f"PDF saved at: Personalized_Fitness_Plan.pdf")
        file_path = 'Personalized_Fitness_Plan.pdf'
        display(FileLink(file_path))
        
       


    elif choice == 7:
        print("\n### Viewing Database Records ###")
        # SQLite database connection
        retrieve_user_records()

    elif choice == 8:
        print("Exiting... Thank you for using the Fitness Plan System!")
        sys.exit()

    else:
        print("Invalid choice. Please try again.")

# Main Loop
while True:
    user_choice = display_menu()
    handle_choice(user_choice)

