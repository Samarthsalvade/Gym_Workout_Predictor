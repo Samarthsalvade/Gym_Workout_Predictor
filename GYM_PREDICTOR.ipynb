# Importing Libraries
import numpy as np
import pandas as pd
import seaborn as sns
import matplotlib.pyplot as plt
from sklearn.linear_model import LogisticRegression, LinearRegression
from sklearn.preprocessing import StandardScaler, LabelEncoder
from sklearn.model_selection import train_test_split
from sklearn.metrics import accuracy_score, classification_report, mean_squared_error, r2_score
import warnings

warnings.filterwarnings("ignore")

# Load Dataset
df = pd.read_csv(r"/Users/samarthgupta1812/Downloads/gym_members_exercise_tracking.csv")

### 1. Data Preparation
# Label Encoding for 'Gender'
le = LabelEncoder()
if df['Gender'].dtype == 'object':
    df['Gender'] = le.fit_transform(df['Gender'])

# One-Hot Encoding for 'Workout_Type'
if 'Workout_Type' in df.columns and df['Workout_Type'].dtype == 'object':
    df = pd.get_dummies(df, columns=['Workout_Type'], drop_first=False)

# Generating a target column for frequency prediction
df['Workout_Frequency'] = np.random.randint(2, 7, size=len(df))

# Feature Engineering
df['BMI'] = df['Weight (kg)'] / (df['Height (m)'] ** 2)

# Handling Missing Values
df.fillna(df.mean(), inplace=True)

# Dropping outliers using Z-score
from scipy import stats
z_scores = np.abs(stats.zscore(df.select_dtypes(include=[np.number])))
df = df[(z_scores < 3).all(axis=1)]

# Input Features and Targets
x = df[['Age', 'Gender', 'Weight (kg)', 'BMI']]
y_type = df.filter(like='Workout_Type').idxmax(axis=1)  # Categorical target for workout type
y_freq = df['Workout_Frequency']  # Numerical target for workout frequency

### 2. Splitting Data
x_train, x_test, y_train_type, y_test_type = train_test_split(x, y_type, test_size=0.3, random_state=42)
x_train_freq, x_test_freq, y_train_freq, y_test_freq = train_test_split(x, y_freq, test_size=0.3, random_state=42)

# Feature Scaling
scaler = StandardScaler()
x_train = scaler.fit_transform(x_train)
x_test = scaler.transform(x_test)

### 3. Model Training
# Logistic Regression for predicting Workout Type
model_type = LogisticRegression(max_iter=500, random_state=42)
model_type.fit(x_train, y_train_type)

# Linear Regression for predicting Workout Frequency
model_freq = LinearRegression()
model_freq.fit(x_train_freq, y_train_freq)

### 4. Model Evaluation
# Evaluate Workout Type Prediction
y_pred_type = model_type.predict(x_test)
acc = accuracy_score(y_test_type, y_pred_type)
print(f"\nLogistic Regression Accuracy (Workout Type Prediction): {acc:.2f}")
print(classification_report(y_test_type, y_pred_type))

# Evaluate Workout Frequency Prediction
y_pred_freq = model_freq.predict(x_test_freq)
r2 = r2_score(y_test_freq, y_pred_freq)
mse = mean_squared_error(y_test_freq, y_pred_freq)
print(f"\nLinear Regression R² (Workout Frequency Prediction): {r2:.2f}")
print(f"Mean Squared Error (MSE): {mse:.2f}")

### 5. User Input
def get_rounded_input(prompt, minimum, maximum):
    value = float(input(prompt))
    if value < minimum:
        value = minimum
    elif value > maximum:
        value = maximum
    return round(value, 2)

# Function to get user input
def get_user_input():
    print("\nPlease provide the following details:")
    age = get_rounded_input("Enter Age (15-80): ", 15, 80)
    gender = int(input("Enter Gender (0 for Male, 1 for Female): "))
    weight = get_rounded_input("Enter Weight (kg) (30-150): ", 30, 150)
    bmi = get_rounded_input("Enter BMI (10-40): ", 10, 40)
    user_data = pd.DataFrame([[age, gender, weight, bmi]], columns=['Age', 'Gender', 'Weight (kg)', 'BMI'])
    user_data_scaled = scaler.transform(user_data)
    return user_data, user_data_scaled

# Get user input
user_data, user_input_scaled = get_user_input()

### 6. Predicting and Plotting Results
# Workout Type Prediction Probability
predicted_probs = model_type.predict_proba(user_input_scaled)[0]
workout_types = model_type.classes_
prob_df = pd.DataFrame({'Workout Type': workout_types, 'Probability': predicted_probs})

# Plotting Workout Type Probabilities
plt.figure(figsize=(10, 5))
sns.barplot(x='Workout Type', y='Probability', data=prob_df)
plt.title("Predicted Workout Type Probabilities")
plt.xlabel("Workout Type")
plt.ylabel("Probability")
plt.show()

# Predict Workout Frequency
predicted_freq = model_freq.predict(user_input_scaled)[0]

# Display Predicted Results
print(f"\nIdeal Workout Frequency: {round(predicted_freq)} days per week")

# Plotting Frequency
plt.figure(figsize=(6, 4))
sns.barplot(x=['Predicted Frequency'], y=[round(predicted_freq)])
plt.title("Predicted Ideal Workout Frequency")
plt.ylabel("Days per week")
plt.show()
